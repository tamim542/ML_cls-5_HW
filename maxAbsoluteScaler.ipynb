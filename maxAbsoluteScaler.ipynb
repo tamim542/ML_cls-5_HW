{
 "cells": [
  {
   "cell_type": "code",
   "execution_count": 1,
   "id": "0ea3c01f",
   "metadata": {},
   "outputs": [
    {
     "data": {
      "text/html": [
       "<div>\n",
       "<style scoped>\n",
       "    .dataframe tbody tr th:only-of-type {\n",
       "        vertical-align: middle;\n",
       "    }\n",
       "\n",
       "    .dataframe tbody tr th {\n",
       "        vertical-align: top;\n",
       "    }\n",
       "\n",
       "    .dataframe thead th {\n",
       "        text-align: right;\n",
       "    }\n",
       "</style>\n",
       "<table border=\"1\" class=\"dataframe\">\n",
       "  <thead>\n",
       "    <tr style=\"text-align: right;\">\n",
       "      <th></th>\n",
       "      <th>Marketing Spend</th>\n",
       "      <th>Administration</th>\n",
       "      <th>Transport</th>\n",
       "      <th>Area</th>\n",
       "      <th>Profit</th>\n",
       "    </tr>\n",
       "  </thead>\n",
       "  <tbody>\n",
       "    <tr>\n",
       "      <th>0</th>\n",
       "      <td>114523.61</td>\n",
       "      <td>136897.80</td>\n",
       "      <td>471784.10</td>\n",
       "      <td>Dhaka</td>\n",
       "      <td>192261.83</td>\n",
       "    </tr>\n",
       "    <tr>\n",
       "      <th>1</th>\n",
       "      <td>162597.70</td>\n",
       "      <td>151377.59</td>\n",
       "      <td>443898.53</td>\n",
       "      <td>Ctg</td>\n",
       "      <td>191792.06</td>\n",
       "    </tr>\n",
       "    <tr>\n",
       "      <th>2</th>\n",
       "      <td>153441.51</td>\n",
       "      <td>101145.55</td>\n",
       "      <td>407934.54</td>\n",
       "      <td>Rangpur</td>\n",
       "      <td>191050.39</td>\n",
       "    </tr>\n",
       "    <tr>\n",
       "      <th>3</th>\n",
       "      <td>144372.41</td>\n",
       "      <td>118671.85</td>\n",
       "      <td>383199.62</td>\n",
       "      <td>Dhaka</td>\n",
       "      <td>182901.99</td>\n",
       "    </tr>\n",
       "    <tr>\n",
       "      <th>4</th>\n",
       "      <td>142107.34</td>\n",
       "      <td>91391.77</td>\n",
       "      <td>366168.42</td>\n",
       "      <td>Rangpur</td>\n",
       "      <td>166187.94</td>\n",
       "    </tr>\n",
       "  </tbody>\n",
       "</table>\n",
       "</div>"
      ],
      "text/plain": [
       "   Marketing Spend  Administration  Transport     Area     Profit\n",
       "0        114523.61       136897.80  471784.10    Dhaka  192261.83\n",
       "1        162597.70       151377.59  443898.53      Ctg  191792.06\n",
       "2        153441.51       101145.55  407934.54  Rangpur  191050.39\n",
       "3        144372.41       118671.85  383199.62    Dhaka  182901.99\n",
       "4        142107.34        91391.77  366168.42  Rangpur  166187.94"
      ]
     },
     "execution_count": 1,
     "metadata": {},
     "output_type": "execute_result"
    }
   ],
   "source": [
    "import pandas as pd\n",
    "df = pd.read_csv('agora.csv')\n",
    "df.head()"
   ]
  },
  {
   "cell_type": "code",
   "execution_count": 2,
   "id": "159f8ea4",
   "metadata": {},
   "outputs": [
    {
     "data": {
      "text/plain": [
       "0    192261.83\n",
       "1    191792.06\n",
       "2    191050.39\n",
       "3    182901.99\n",
       "4    166187.94\n",
       "Name: Profit, dtype: float64"
      ]
     },
     "execution_count": 2,
     "metadata": {},
     "output_type": "execute_result"
    }
   ],
   "source": [
    "from sklearn.preprocessing import MaxAbsScaler\n",
    "m=MaxAbsScaler()\n",
    "x = df.drop(['Area','Profit'], axis=1)\n",
    "y = df['Profit']\n",
    "y.head()"
   ]
  },
  {
   "cell_type": "code",
   "execution_count": 3,
   "id": "e003885c",
   "metadata": {},
   "outputs": [
    {
     "data": {
      "text/plain": [
       "array([[0.69261666, 0.74952712, 1.        ],\n",
       "       [0.98335946, 0.8288052 , 0.94089337],\n",
       "       [0.92798459, 0.5537805 , 0.8646636 ],\n",
       "       [0.87313643, 0.64973849, 0.81223513],\n",
       "       [0.85943772, 0.50037773, 0.77613557],\n",
       "       [0.797566  , 0.54649404, 0.76912588],\n",
       "       [0.81412828, 0.80592635, 0.27071031],\n",
       "       [0.7880179 , 0.79678948, 0.68649342],\n",
       "       [0.72901786, 0.81424892, 0.66049977],\n",
       "       [0.74590551, 0.59502771, 0.64644319],\n",
       "       [0.61635061, 0.60551217, 0.48573267],\n",
       "       [0.60884455, 0.50256141, 0.52936195],\n",
       "       [0.56766982, 0.69708993, 0.52956308],\n",
       "       [0.55635219, 0.74184705, 0.53555202],\n",
       "       [0.72539353, 0.85711046, 0.54370828],\n",
       "       [1.        , 0.67133764, 0.55486446],\n",
       "       [0.47180821, 0.66575694, 0.56031151],\n",
       "       [0.57246821, 0.79431211, 0.59894835],\n",
       "       [0.55488118, 0.62512218, 0.62511553],\n",
       "       [0.52264964, 0.84050283,        nan],\n",
       "       [0.46116861, 0.62343317, 0.63305328],\n",
       "       [0.47408436, 0.84192263, 0.63532724],\n",
       "       [0.4475048 , 0.67224602, 0.64291963],\n",
       "       [0.40842369, 0.5789959 , 0.64599195],\n",
       "       [0.46594728, 0.54357379, 0.29796428],\n",
       "       [0.39107967, 0.76406544, 0.29242745],\n",
       "       [0.45557444, 0.78915677, 0.28413435],\n",
       "       [0.43609283, 0.7000693 , 0.74861321],\n",
       "       [0.39946683, 1.        , 0.25042853],\n",
       "       [0.39676926, 0.83786356, 0.22709197],\n",
       "       [0.37493063, 0.63314586, 0.19316302],\n",
       "       [0.36974101, 0.83605602, 0.18698856],\n",
       "       [0.38348453, 0.70748837, 0.09768292],\n",
       "       [0.33561668, 0.56424854, 0.45494286],\n",
       "       [0.2807759 , 0.86338765, 0.44680961],\n",
       "       [0.2782839 , 0.46564198, 0.43561799],\n",
       "       [0.17335288, 0.69564357, 0.42631115],\n",
       "       [0.26652654, 0.28077956, 0.41762624],\n",
       "       [0.12234465, 0.36107053, 0.39269043],\n",
       "       [0.23319442, 0.45433401, 0.3709309 ],\n",
       "       [0.17390063, 0.64904972, 0.36626005],\n",
       "       [0.16869099, 0.46379868, 0.34861436],\n",
       "       [0.14297577, 0.52664642, 0.31370517],\n",
       "       [0.09377566, 0.69742894, 0.07531871],\n",
       "       [0.13412668, 0.8475768 , 0.06005866],\n",
       "       [0.0060492 , 0.67974847, 0.0040356 ],\n",
       "       [0.00795565, 0.63410362, 0.62976785],\n",
       "       [0.        , 0.74147392, 0.        ],\n",
       "       [0.00327821, 0.28329815, 0.        ],\n",
       "       [0.        , 0.64049627, 0.09574943]])"
      ]
     },
     "execution_count": 3,
     "metadata": {},
     "output_type": "execute_result"
    }
   ],
   "source": [
    "newx = m.fit_transform(x)\n",
    "newx"
   ]
  },
  {
   "cell_type": "code",
   "execution_count": 4,
   "id": "3bbad2ea",
   "metadata": {},
   "outputs": [
    {
     "data": {
      "text/html": [
       "<div>\n",
       "<style scoped>\n",
       "    .dataframe tbody tr th:only-of-type {\n",
       "        vertical-align: middle;\n",
       "    }\n",
       "\n",
       "    .dataframe tbody tr th {\n",
       "        vertical-align: top;\n",
       "    }\n",
       "\n",
       "    .dataframe thead th {\n",
       "        text-align: right;\n",
       "    }\n",
       "</style>\n",
       "<table border=\"1\" class=\"dataframe\">\n",
       "  <thead>\n",
       "    <tr style=\"text-align: right;\">\n",
       "      <th></th>\n",
       "      <th>a</th>\n",
       "      <th>b</th>\n",
       "      <th>c</th>\n",
       "    </tr>\n",
       "  </thead>\n",
       "  <tbody>\n",
       "    <tr>\n",
       "      <th>0</th>\n",
       "      <td>0.692617</td>\n",
       "      <td>0.749527</td>\n",
       "      <td>1.000000</td>\n",
       "    </tr>\n",
       "    <tr>\n",
       "      <th>1</th>\n",
       "      <td>0.983359</td>\n",
       "      <td>0.828805</td>\n",
       "      <td>0.940893</td>\n",
       "    </tr>\n",
       "    <tr>\n",
       "      <th>2</th>\n",
       "      <td>0.927985</td>\n",
       "      <td>0.553781</td>\n",
       "      <td>0.864664</td>\n",
       "    </tr>\n",
       "    <tr>\n",
       "      <th>3</th>\n",
       "      <td>0.873136</td>\n",
       "      <td>0.649738</td>\n",
       "      <td>0.812235</td>\n",
       "    </tr>\n",
       "    <tr>\n",
       "      <th>4</th>\n",
       "      <td>0.859438</td>\n",
       "      <td>0.500378</td>\n",
       "      <td>0.776136</td>\n",
       "    </tr>\n",
       "  </tbody>\n",
       "</table>\n",
       "</div>"
      ],
      "text/plain": [
       "          a         b         c\n",
       "0  0.692617  0.749527  1.000000\n",
       "1  0.983359  0.828805  0.940893\n",
       "2  0.927985  0.553781  0.864664\n",
       "3  0.873136  0.649738  0.812235\n",
       "4  0.859438  0.500378  0.776136"
      ]
     },
     "execution_count": 4,
     "metadata": {},
     "output_type": "execute_result"
    }
   ],
   "source": [
    "dataFrame = pd.DataFrame(newx, columns=['a','b','c'])\n",
    "dataFrame.head()"
   ]
  },
  {
   "cell_type": "code",
   "execution_count": null,
   "id": "0b37a980",
   "metadata": {},
   "outputs": [],
   "source": []
  }
 ],
 "metadata": {
  "kernelspec": {
   "display_name": "Python 3",
   "language": "python",
   "name": "python3"
  },
  "language_info": {
   "codemirror_mode": {
    "name": "ipython",
    "version": 3
   },
   "file_extension": ".py",
   "mimetype": "text/x-python",
   "name": "python",
   "nbconvert_exporter": "python",
   "pygments_lexer": "ipython3",
   "version": "3.8.8"
  }
 },
 "nbformat": 4,
 "nbformat_minor": 5
}
