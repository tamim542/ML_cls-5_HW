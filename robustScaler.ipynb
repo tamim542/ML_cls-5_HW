{
 "cells": [
  {
   "cell_type": "code",
   "execution_count": 1,
   "id": "2c8a670a",
   "metadata": {},
   "outputs": [
    {
     "data": {
      "text/html": [
       "<div>\n",
       "<style scoped>\n",
       "    .dataframe tbody tr th:only-of-type {\n",
       "        vertical-align: middle;\n",
       "    }\n",
       "\n",
       "    .dataframe tbody tr th {\n",
       "        vertical-align: top;\n",
       "    }\n",
       "\n",
       "    .dataframe thead th {\n",
       "        text-align: right;\n",
       "    }\n",
       "</style>\n",
       "<table border=\"1\" class=\"dataframe\">\n",
       "  <thead>\n",
       "    <tr style=\"text-align: right;\">\n",
       "      <th></th>\n",
       "      <th>Marketing Spend</th>\n",
       "      <th>Administration</th>\n",
       "      <th>Transport</th>\n",
       "      <th>Area</th>\n",
       "      <th>Profit</th>\n",
       "    </tr>\n",
       "  </thead>\n",
       "  <tbody>\n",
       "    <tr>\n",
       "      <th>0</th>\n",
       "      <td>114523.61</td>\n",
       "      <td>136897.80</td>\n",
       "      <td>471784.10</td>\n",
       "      <td>Dhaka</td>\n",
       "      <td>192261.83</td>\n",
       "    </tr>\n",
       "    <tr>\n",
       "      <th>1</th>\n",
       "      <td>162597.70</td>\n",
       "      <td>151377.59</td>\n",
       "      <td>443898.53</td>\n",
       "      <td>Ctg</td>\n",
       "      <td>191792.06</td>\n",
       "    </tr>\n",
       "    <tr>\n",
       "      <th>2</th>\n",
       "      <td>153441.51</td>\n",
       "      <td>101145.55</td>\n",
       "      <td>407934.54</td>\n",
       "      <td>Rangpur</td>\n",
       "      <td>191050.39</td>\n",
       "    </tr>\n",
       "    <tr>\n",
       "      <th>3</th>\n",
       "      <td>144372.41</td>\n",
       "      <td>118671.85</td>\n",
       "      <td>383199.62</td>\n",
       "      <td>Dhaka</td>\n",
       "      <td>182901.99</td>\n",
       "    </tr>\n",
       "    <tr>\n",
       "      <th>4</th>\n",
       "      <td>142107.34</td>\n",
       "      <td>91391.77</td>\n",
       "      <td>366168.42</td>\n",
       "      <td>Rangpur</td>\n",
       "      <td>166187.94</td>\n",
       "    </tr>\n",
       "  </tbody>\n",
       "</table>\n",
       "</div>"
      ],
      "text/plain": [
       "   Marketing Spend  Administration  Transport     Area     Profit\n",
       "0        114523.61       136897.80  471784.10    Dhaka  192261.83\n",
       "1        162597.70       151377.59  443898.53      Ctg  191792.06\n",
       "2        153441.51       101145.55  407934.54  Rangpur  191050.39\n",
       "3        144372.41       118671.85  383199.62    Dhaka  182901.99\n",
       "4        142107.34        91391.77  366168.42  Rangpur  166187.94"
      ]
     },
     "execution_count": 1,
     "metadata": {},
     "output_type": "execute_result"
    }
   ],
   "source": [
    "import pandas as pd\n",
    "df = pd.read_csv('agora.csv')\n",
    "df.head()"
   ]
  },
  {
   "cell_type": "code",
   "execution_count": 2,
   "id": "97db9b32",
   "metadata": {},
   "outputs": [
    {
     "data": {
      "text/plain": [
       "0    192261.83\n",
       "1    191792.06\n",
       "2    191050.39\n",
       "3    182901.99\n",
       "4    166187.94\n",
       "Name: Profit, dtype: float64"
      ]
     },
     "execution_count": 2,
     "metadata": {},
     "output_type": "execute_result"
    }
   ],
   "source": [
    "from sklearn.preprocessing import RobustScaler\n",
    "r = RobustScaler()\n",
    "x = df.drop(['Area','Profit'], axis=1)\n",
    "y = df['Profit']\n",
    "y.head()"
   ]
  },
  {
   "cell_type": "code",
   "execution_count": 3,
   "id": "32e3cd27",
   "metadata": {},
   "outputs": [
    {
     "data": {
      "text/plain": [
       "array([[ 0.67253009,  0.34535525,  1.55201644],\n",
       "       [ 1.45211292,  0.6975647 ,  1.38371396],\n",
       "       [ 1.3036336 , -0.52428997,  1.16665443],\n",
       "       [ 1.15656655, -0.09797658,  1.0173676 ],\n",
       "       [ 1.11983554, -0.76154296,  0.91457633],\n",
       "       [ 0.95393588, -0.5566616 ,  0.89461668],\n",
       "       [ 0.99834513,  0.59592064, -0.52459079],\n",
       "       [ 0.9283341 ,  0.55532815,  0.65932587],\n",
       "       [ 0.77013442,  0.63289538,  0.58531056],\n",
       "       [ 0.8154161 , -0.34104062,  0.54528533],\n",
       "       [ 0.46803423, -0.29446122,  0.08767206],\n",
       "       [ 0.44790788, -0.75184149,  0.21190373],\n",
       "       [ 0.33750405,  0.11239208,  0.21247644],\n",
       "       [ 0.30715756,  0.31123495,  0.22952959],\n",
       "       [ 0.76041632,  0.82331673,  0.25275401],\n",
       "       [ 1.49673201, -0.00201781,  0.28452056],\n",
       "       [ 0.08046566, -0.02681124,  0.30003068],\n",
       "       [ 0.35037021,  0.54432193,  0.41004671],\n",
       "       [ 0.30321327, -0.20733968,  0.48455614],\n",
       "       [ 0.21678926,  0.74953386,         nan],\n",
       "       [ 0.05193717, -0.21484346,  0.50715837],\n",
       "       [ 0.08656882,  0.75584161,  0.51363334],\n",
       "       [ 0.01529973,  0.00201781,  0.53525221],\n",
       "       [-0.08949034, -0.41226531,  0.54400044],\n",
       "       [ 0.06475046, -0.56963541, -0.4469868 ],\n",
       "       [-0.13599571,  0.40994478, -0.46275259],\n",
       "       [ 0.03693728,  0.52141826, -0.48636666],\n",
       "       [-0.01529973,  0.12562858,  0.83620813],\n",
       "       [-0.11350681,  1.45813335, -0.5823419 ],\n",
       "       [-0.12073992,  0.73780837, -0.64879132],\n",
       "       [-0.1792969 , -0.1716928 , -0.74540191],\n",
       "       [-0.19321209,  0.72977798, -0.76298329],\n",
       "       [-0.15636092,  0.15858935, -1.01727556],\n",
       "       [-0.28471131, -0.47778354,  0.        ],\n",
       "       [-0.43175858,  0.85120443, -0.02315894],\n",
       "       [-0.43844049, -0.91586378, -0.05502639],\n",
       "       [-0.71979714,  0.10596635, -0.08152705],\n",
       "       [-0.46996607, -1.73715369, -0.10625678],\n",
       "       [-0.85656799, -1.38044426, -0.17725996],\n",
       "       [-0.55934112, -0.96610178, -0.23921887],\n",
       "       [-0.71832843, -0.10103656, -0.25251881],\n",
       "       [-0.7322973 , -0.92405301, -0.30276385],\n",
       "       [-0.80124875, -0.64483881, -0.4021656 ],\n",
       "       [-0.93317142,  0.11389823, -1.08095627],\n",
       "       [-0.82497625,  0.78096147, -1.12440833],\n",
       "       [-1.16839665,  0.03534904, -1.28393053],\n",
       "       [-1.16328479, -0.16743776,  0.49780333],\n",
       "       [-1.18461665,  0.30957726, -1.29542164],\n",
       "       [-1.17582662, -1.72596431, -1.29542164],\n",
       "       [-1.18461665, -0.13903706, -1.02278106]])"
      ]
     },
     "execution_count": 3,
     "metadata": {},
     "output_type": "execute_result"
    }
   ],
   "source": [
    "newx = r.fit_transform(x)\n",
    "newx"
   ]
  },
  {
   "cell_type": "code",
   "execution_count": 4,
   "id": "8492c616",
   "metadata": {},
   "outputs": [
    {
     "data": {
      "text/html": [
       "<div>\n",
       "<style scoped>\n",
       "    .dataframe tbody tr th:only-of-type {\n",
       "        vertical-align: middle;\n",
       "    }\n",
       "\n",
       "    .dataframe tbody tr th {\n",
       "        vertical-align: top;\n",
       "    }\n",
       "\n",
       "    .dataframe thead th {\n",
       "        text-align: right;\n",
       "    }\n",
       "</style>\n",
       "<table border=\"1\" class=\"dataframe\">\n",
       "  <thead>\n",
       "    <tr style=\"text-align: right;\">\n",
       "      <th></th>\n",
       "      <th>a</th>\n",
       "      <th>b</th>\n",
       "      <th>c</th>\n",
       "    </tr>\n",
       "  </thead>\n",
       "  <tbody>\n",
       "    <tr>\n",
       "      <th>0</th>\n",
       "      <td>0.672530</td>\n",
       "      <td>0.345355</td>\n",
       "      <td>1.552016</td>\n",
       "    </tr>\n",
       "    <tr>\n",
       "      <th>1</th>\n",
       "      <td>1.452113</td>\n",
       "      <td>0.697565</td>\n",
       "      <td>1.383714</td>\n",
       "    </tr>\n",
       "    <tr>\n",
       "      <th>2</th>\n",
       "      <td>1.303634</td>\n",
       "      <td>-0.524290</td>\n",
       "      <td>1.166654</td>\n",
       "    </tr>\n",
       "    <tr>\n",
       "      <th>3</th>\n",
       "      <td>1.156567</td>\n",
       "      <td>-0.097977</td>\n",
       "      <td>1.017368</td>\n",
       "    </tr>\n",
       "    <tr>\n",
       "      <th>4</th>\n",
       "      <td>1.119836</td>\n",
       "      <td>-0.761543</td>\n",
       "      <td>0.914576</td>\n",
       "    </tr>\n",
       "  </tbody>\n",
       "</table>\n",
       "</div>"
      ],
      "text/plain": [
       "          a         b         c\n",
       "0  0.672530  0.345355  1.552016\n",
       "1  1.452113  0.697565  1.383714\n",
       "2  1.303634 -0.524290  1.166654\n",
       "3  1.156567 -0.097977  1.017368\n",
       "4  1.119836 -0.761543  0.914576"
      ]
     },
     "execution_count": 4,
     "metadata": {},
     "output_type": "execute_result"
    }
   ],
   "source": [
    "dataFrame = pd.DataFrame(newx, columns=['a','b','c'])\n",
    "dataFrame.head()"
   ]
  },
  {
   "cell_type": "code",
   "execution_count": null,
   "id": "9cee7217",
   "metadata": {},
   "outputs": [],
   "source": []
  }
 ],
 "metadata": {
  "kernelspec": {
   "display_name": "Python 3",
   "language": "python",
   "name": "python3"
  },
  "language_info": {
   "codemirror_mode": {
    "name": "ipython",
    "version": 3
   },
   "file_extension": ".py",
   "mimetype": "text/x-python",
   "name": "python",
   "nbconvert_exporter": "python",
   "pygments_lexer": "ipython3",
   "version": "3.8.8"
  }
 },
 "nbformat": 4,
 "nbformat_minor": 5
}
